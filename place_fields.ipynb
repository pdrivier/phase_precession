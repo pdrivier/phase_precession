{
 "cells": [
  {
   "cell_type": "code",
   "execution_count": 1,
   "id": "330635ef",
   "metadata": {},
   "outputs": [
    {
     "name": "stdout",
     "output_type": "stream",
     "text": [
      "Once deleted, variables cannot be recovered. Proceed (y/[n])? y\n"
     ]
    }
   ],
   "source": [
    "%reset \n",
    "import itertools\n",
    "import os\n",
    "import pandas as pd\n",
    "import matplotlib.pyplot as plt\n",
    "import numpy as np\n",
    "import scipy.io as sio\n",
    "import seaborn as sns\n",
    "\n",
    "\n",
    "from process_lfps import butter_bandpass_filter, create_data_segments\n",
    "\n",
    "sns.set(font_scale=2,style='whitegrid') \n",
    "pd.set_option('max_colwidth',100)"
   ]
  },
  {
   "cell_type": "markdown",
   "id": "cef319ae",
   "metadata": {},
   "source": [
    "## Plotting Place Fields on Linear Track"
   ]
  },
  {
   "cell_type": "code",
   "execution_count": 2,
   "id": "8ac3a87e",
   "metadata": {},
   "outputs": [],
   "source": [
    "datapath = 'python_data_lintrack/'\n",
    "files = os.listdir(datapath)\n",
    "files = [f for f in files if not f.startswith('.')]"
   ]
  },
  {
   "cell_type": "code",
   "execution_count": 3,
   "id": "cbd5c025",
   "metadata": {},
   "outputs": [
    {
     "data": {
      "text/plain": [
       "['posdf_day1_epoch2.csv', 'spikesdf_day1_epoch2.csv']"
      ]
     },
     "execution_count": 3,
     "metadata": {},
     "output_type": "execute_result"
    }
   ],
   "source": [
    "files"
   ]
  },
  {
   "cell_type": "code",
   "execution_count": 4,
   "id": "5b114a04",
   "metadata": {},
   "outputs": [],
   "source": [
    "posdf = pd.read_csv(os.path.join(datapath,'posdf_day1_epoch2.csv'))\n",
    "spikesdf = pd.read_csv(os.path.join(datapath,'spikesdf_day1_epoch2.csv'))"
   ]
  },
  {
   "cell_type": "code",
   "execution_count": 5,
   "id": "326a718d",
   "metadata": {},
   "outputs": [],
   "source": [
    "spikesdf['posindex_0ind'] = spikesdf[['posindex']] - 1"
   ]
  },
  {
   "cell_type": "code",
   "execution_count": 6,
   "id": "29b82800",
   "metadata": {},
   "outputs": [
    {
     "data": {
      "text/html": [
       "<div>\n",
       "<style scoped>\n",
       "    .dataframe tbody tr th:only-of-type {\n",
       "        vertical-align: middle;\n",
       "    }\n",
       "\n",
       "    .dataframe tbody tr th {\n",
       "        vertical-align: top;\n",
       "    }\n",
       "\n",
       "    .dataframe thead th {\n",
       "        text-align: right;\n",
       "    }\n",
       "</style>\n",
       "<table border=\"1\" class=\"dataframe\">\n",
       "  <thead>\n",
       "    <tr style=\"text-align: right;\">\n",
       "      <th></th>\n",
       "      <th>spike_ts</th>\n",
       "      <th>x</th>\n",
       "      <th>y</th>\n",
       "      <th>hdir</th>\n",
       "      <th>posindex</th>\n",
       "      <th>cell_id</th>\n",
       "      <th>cell_type</th>\n",
       "      <th>posindex_0ind</th>\n",
       "    </tr>\n",
       "  </thead>\n",
       "  <tbody>\n",
       "    <tr>\n",
       "      <th>0</th>\n",
       "      <td>3902.7383</td>\n",
       "      <td>103.35</td>\n",
       "      <td>133.90</td>\n",
       "      <td>0.625485</td>\n",
       "      <td>531</td>\n",
       "      <td>HPa_CA1_day1_epoch2_tet1_unitnum1</td>\n",
       "      <td>CA1Pyr</td>\n",
       "      <td>530</td>\n",
       "    </tr>\n",
       "    <tr>\n",
       "      <th>1</th>\n",
       "      <td>3905.7398</td>\n",
       "      <td>105.95</td>\n",
       "      <td>135.20</td>\n",
       "      <td>0.463648</td>\n",
       "      <td>621</td>\n",
       "      <td>HPa_CA1_day1_epoch2_tet1_unitnum1</td>\n",
       "      <td>CA1Pyr</td>\n",
       "      <td>620</td>\n",
       "    </tr>\n",
       "    <tr>\n",
       "      <th>2</th>\n",
       "      <td>3911.1145</td>\n",
       "      <td>109.85</td>\n",
       "      <td>100.10</td>\n",
       "      <td>-2.587285</td>\n",
       "      <td>783</td>\n",
       "      <td>HPa_CA1_day1_epoch2_tet1_unitnum1</td>\n",
       "      <td>CA1Pyr</td>\n",
       "      <td>782</td>\n",
       "    </tr>\n",
       "    <tr>\n",
       "      <th>3</th>\n",
       "      <td>3972.4770</td>\n",
       "      <td>108.55</td>\n",
       "      <td>124.80</td>\n",
       "      <td>0.039979</td>\n",
       "      <td>2622</td>\n",
       "      <td>HPa_CA1_day1_epoch2_tet1_unitnum1</td>\n",
       "      <td>CA1Pyr</td>\n",
       "      <td>2621</td>\n",
       "    </tr>\n",
       "    <tr>\n",
       "      <th>4</th>\n",
       "      <td>3972.4809</td>\n",
       "      <td>108.55</td>\n",
       "      <td>124.80</td>\n",
       "      <td>0.039979</td>\n",
       "      <td>2622</td>\n",
       "      <td>HPa_CA1_day1_epoch2_tet1_unitnum1</td>\n",
       "      <td>CA1Pyr</td>\n",
       "      <td>2621</td>\n",
       "    </tr>\n",
       "    <tr>\n",
       "      <th>...</th>\n",
       "      <td>...</td>\n",
       "      <td>...</td>\n",
       "      <td>...</td>\n",
       "      <td>...</td>\n",
       "      <td>...</td>\n",
       "      <td>...</td>\n",
       "      <td>...</td>\n",
       "      <td>...</td>\n",
       "    </tr>\n",
       "    <tr>\n",
       "      <th>41816</th>\n",
       "      <td>5029.8387</td>\n",
       "      <td>102.05</td>\n",
       "      <td>70.85</td>\n",
       "      <td>-1.642104</td>\n",
       "      <td>34317</td>\n",
       "      <td>HPa_iCA1_day1_epoch2_tet14_unitnum1</td>\n",
       "      <td>iCA1Pyrpr</td>\n",
       "      <td>34316</td>\n",
       "    </tr>\n",
       "    <tr>\n",
       "      <th>41817</th>\n",
       "      <td>5029.8457</td>\n",
       "      <td>102.05</td>\n",
       "      <td>70.85</td>\n",
       "      <td>-1.642104</td>\n",
       "      <td>34317</td>\n",
       "      <td>HPa_iCA1_day1_epoch2_tet14_unitnum1</td>\n",
       "      <td>iCA1Pyrpr</td>\n",
       "      <td>34316</td>\n",
       "    </tr>\n",
       "    <tr>\n",
       "      <th>41818</th>\n",
       "      <td>5033.2821</td>\n",
       "      <td>102.05</td>\n",
       "      <td>70.20</td>\n",
       "      <td>-1.639653</td>\n",
       "      <td>34420</td>\n",
       "      <td>HPa_iCA1_day1_epoch2_tet14_unitnum1</td>\n",
       "      <td>iCA1Pyrpr</td>\n",
       "      <td>34419</td>\n",
       "    </tr>\n",
       "    <tr>\n",
       "      <th>41819</th>\n",
       "      <td>5033.3140</td>\n",
       "      <td>102.70</td>\n",
       "      <td>70.20</td>\n",
       "      <td>-1.605265</td>\n",
       "      <td>34421</td>\n",
       "      <td>HPa_iCA1_day1_epoch2_tet14_unitnum1</td>\n",
       "      <td>iCA1Pyrpr</td>\n",
       "      <td>34420</td>\n",
       "    </tr>\n",
       "    <tr>\n",
       "      <th>41820</th>\n",
       "      <td>5035.1005</td>\n",
       "      <td>102.05</td>\n",
       "      <td>70.20</td>\n",
       "      <td>-1.677532</td>\n",
       "      <td>34475</td>\n",
       "      <td>HPa_iCA1_day1_epoch2_tet14_unitnum1</td>\n",
       "      <td>iCA1Pyrpr</td>\n",
       "      <td>34474</td>\n",
       "    </tr>\n",
       "  </tbody>\n",
       "</table>\n",
       "<p>41821 rows × 8 columns</p>\n",
       "</div>"
      ],
      "text/plain": [
       "        spike_ts       x       y      hdir  posindex  \\\n",
       "0      3902.7383  103.35  133.90  0.625485       531   \n",
       "1      3905.7398  105.95  135.20  0.463648       621   \n",
       "2      3911.1145  109.85  100.10 -2.587285       783   \n",
       "3      3972.4770  108.55  124.80  0.039979      2622   \n",
       "4      3972.4809  108.55  124.80  0.039979      2622   \n",
       "...          ...     ...     ...       ...       ...   \n",
       "41816  5029.8387  102.05   70.85 -1.642104     34317   \n",
       "41817  5029.8457  102.05   70.85 -1.642104     34317   \n",
       "41818  5033.2821  102.05   70.20 -1.639653     34420   \n",
       "41819  5033.3140  102.70   70.20 -1.605265     34421   \n",
       "41820  5035.1005  102.05   70.20 -1.677532     34475   \n",
       "\n",
       "                                   cell_id  cell_type  posindex_0ind  \n",
       "0        HPa_CA1_day1_epoch2_tet1_unitnum1     CA1Pyr            530  \n",
       "1        HPa_CA1_day1_epoch2_tet1_unitnum1     CA1Pyr            620  \n",
       "2        HPa_CA1_day1_epoch2_tet1_unitnum1     CA1Pyr            782  \n",
       "3        HPa_CA1_day1_epoch2_tet1_unitnum1     CA1Pyr           2621  \n",
       "4        HPa_CA1_day1_epoch2_tet1_unitnum1     CA1Pyr           2621  \n",
       "...                                    ...        ...            ...  \n",
       "41816  HPa_iCA1_day1_epoch2_tet14_unitnum1  iCA1Pyrpr          34316  \n",
       "41817  HPa_iCA1_day1_epoch2_tet14_unitnum1  iCA1Pyrpr          34316  \n",
       "41818  HPa_iCA1_day1_epoch2_tet14_unitnum1  iCA1Pyrpr          34419  \n",
       "41819  HPa_iCA1_day1_epoch2_tet14_unitnum1  iCA1Pyrpr          34420  \n",
       "41820  HPa_iCA1_day1_epoch2_tet14_unitnum1  iCA1Pyrpr          34474  \n",
       "\n",
       "[41821 rows x 8 columns]"
      ]
     },
     "execution_count": 6,
     "metadata": {},
     "output_type": "execute_result"
    }
   ],
   "source": [
    "spikesdf"
   ]
  },
  {
   "cell_type": "code",
   "execution_count": 7,
   "id": "7379d1cd",
   "metadata": {},
   "outputs": [],
   "source": [
    "posdf = posdf.dropna()"
   ]
  },
  {
   "cell_type": "code",
   "execution_count": 77,
   "id": "39b38175",
   "metadata": {},
   "outputs": [],
   "source": [
    "cell_labels = list(set(spikesdf['cell_id'].to_list()))"
   ]
  },
  {
   "cell_type": "code",
   "execution_count": 144,
   "id": "95e99150",
   "metadata": {},
   "outputs": [],
   "source": [
    "subcell = spikesdf[spikesdf['cell_id']==cell_labels[5]]\n",
    "\n",
    "locinds = list(set(posdf.index) & set(subcell['posindex_0ind']))\n",
    "locinds = sorted(locinds)\n",
    "locinds = locinds[:-1]\n",
    "\n",
    "x_spikes = posdf['x'].iloc[locinds]\n",
    "y_spikes = posdf['y'].iloc[locinds]"
   ]
  },
  {
   "cell_type": "code",
   "execution_count": 145,
   "id": "53d76e32",
   "metadata": {},
   "outputs": [
    {
     "data": {
      "text/plain": [
       "{'iCA1Pyrp'}"
      ]
     },
     "execution_count": 145,
     "metadata": {},
     "output_type": "execute_result"
    }
   ],
   "source": [
    "set(subcell['cell_type'].to_list())"
   ]
  },
  {
   "cell_type": "code",
   "execution_count": 146,
   "id": "e0a2d8b5",
   "metadata": {},
   "outputs": [
    {
     "name": "stdout",
     "output_type": "stream",
     "text": [
      "error: a ratio exceeds 1\n"
     ]
    },
    {
     "data": {
      "text/plain": [
       "(0.0, 139.52575)"
      ]
     },
     "execution_count": 146,
     "metadata": {},
     "output_type": "execute_result"
    },
    {
     "data": {
      "image/png": "[encoded data removed]",
      "text/plain": [
       "<Figure size 720x432 with 4 Axes>"
      ]
     },
     "metadata": {},
     "output_type": "display_data"
    }
   ],
   "source": [
    "fig, axd = plt.subplot_mosaic([['left', 'upper right'],\n",
    "                               ['left', 'middle right'],\n",
    "                               ['left', 'lower right']\n",
    "                              ],\n",
    "                              figsize=(10, 6), constrained_layout=True)\n",
    "\n",
    "\n",
    "axd['left'].plot(posdf['x'],posdf['y'],color='lightgrey',alpha=0.5)\n",
    "axd['left'].scatter(x_spikes,y_spikes,color='blue',alpha=0.5)\n",
    "axd['left'].set_title('position tracking' + '\\n' + '(blue) spikes')\n",
    "\n",
    "sp_per_bin = axd['upper right'].hist(y_spikes,bins=50,alpha=0.4,color='blue')\n",
    "axd['upper right'].set_title('spike counts by linearized position')\n",
    "axd['upper right'].set_xlim(0,140)\n",
    "\n",
    "\n",
    "occupancy_per_bin = axd['middle right'].hist(posdf['y'],bins=50,alpha=0.6,color='lightgrey')\n",
    "axd['middle right'].set_title('occupancy')\n",
    "axd['middle right'].set_xlim(0,140)\n",
    "\n",
    "norm_spikes_per_bin = sp_per_bin[0] / (occupancy_per_bin[0] * np.median(np.diff(posdf['time'].values))) \n",
    "\n",
    "if np.where(sp_per_bin[0] / occupancy_per_bin[0] > 1):\n",
    "\n",
    "    print('error: a ratio exceeds 1')\n",
    "\n",
    "bin_edges = occupancy_per_bin[1]\n",
    "axd['lower right'].plot(bin_edges[:-1],norm_spikes_per_bin,alpha=0.6,linewidth=4,color='blue')\n",
    "axd['lower right'].set_title('sp/s')\n",
    "axd['lower right'].set_xlim(0,)\n"
   ]
  },
  {
   "cell_type": "markdown",
   "id": "66fa917b",
   "metadata": {},
   "source": [
    "Now, I: need to apply the cutoffs that people use to determine the time stamps corresponding to entrance into and exit from the place field for each cell. Storage options: \n",
    "\n",
    "- separate df per unique cell\n",
    "- single df, with column labels indicating cell identity, entrance time, exit time\n",
    "\n",
    "Currently leaning towards the second, to keep all the data for each day/epoch within a single folder?\n",
    "\n",
    "- smooth fields first \n",
    "- find the local maximum (maxima)\n",
    "- find the bins at which the frate decays to less than 10% of the maximum\n",
    "\n",
    "\n",
    "Notes from Buzsaki Lab code: \n",
    "- minimum peak rate set at 2 Hz\n",
    "- percent change between peak rate and start/end of field (set to 15%)\n",
    "- remove field peaks with standard deviation > mean frate (unreliable)\n",
    "- find center of mass: \n",
    "    \n",
    "      while sum(meanRates(i,startfield:stopfield)) - sum(meanRates(i,startfield:com)) > sum(meanRates(i,startfield:stopfield))./2: \n",
    "            fields{i}{fieldCount}.COM = com;\n",
    "            com = com + 1 \n",
    "      end\n",
    "      fieldCount = fieldCount + 1"
   ]
  },
  {
   "cell_type": "code",
   "execution_count": 176,
   "id": "cf97c5ee",
   "metadata": {},
   "outputs": [],
   "source": [
    "#alternative detection code, to deal with multiple frake peaks\n",
    "\n",
    "\n",
    "from scipy.ndimage import gaussian_filter1d\n",
    "from scipy.signal import find_peaks\n",
    "\n",
    "s=norm_spikes_per_bin\n",
    "sm = gaussian_filter1d(s, 2)\n",
    "\n",
    "if np.mean(sm) <=3:\n",
    "    \n",
    "    thresh_peak = 3 #Hz, min frate to be considered a peak of field\n",
    "    stdevs = 2 # number of std above mean frate to consider field\n",
    "    thresh_pct = 0.10 #percent of edge relative to max peak\n",
    "    \n",
    "    \n",
    "\n",
    "    #find the max peak\n",
    "    peaks, _ = find_peaks(sm, height = thresh_peak)\n",
    "    vanillapeaks = np.where(sm == max(sm))\n",
    "    locpeaks = np.hstack((vanillapeaks[0], peaks))\n",
    "    peaks = np.array(sorted(list(set(locpeaks))))\n",
    "    \n",
    "    peaks = [i for i in peaks if sm[i] >= np.mean(sm) + np.std(sm)]\n",
    "\n",
    "    \n",
    "    if len(peaks) > 0:\n",
    "\n",
    "        for ind, candidate in enumerate(peaks): \n",
    "            \n",
    "            left_edges = []\n",
    "            right_edges = []\n",
    "            \n",
    "            if (sm[candidate] > thresh_peak) & (sm[candidate] >= np.mean(sm) + (stdevs * np.std(sm))):\n",
    "                \n",
    "                #initialize the left edge of field\n",
    "                left_edge = candidate - 1\n",
    "                \n",
    "                #fix if this is past maze edge\n",
    "                while left_edge < 0: \n",
    "                    left_edge += 1\n",
    "\n",
    "                while (sm[left_edge]/sm[candidate] > thresh_pct) & (left_edge > 0):\n",
    "\n",
    "                    #move left edge further left\n",
    "                    left_edge -= 1\n",
    "                    \n",
    "                #fix if you went past the maze edge\n",
    "                while left_edge < 0: \n",
    "                    left_edge += 1\n",
    "\n",
    "                while (sm[left_edge]/sm[candidate] < thresh_pct) & (left_edge > 0):\n",
    "\n",
    "                    #adjust it back right if you overshot the threshold\n",
    "                    left_edge+=1\n",
    "                    \n",
    "                while left_edge < 0: \n",
    "                    \n",
    "                    left_edge += 1\n",
    "                    \n",
    "                \n",
    "\n",
    "                #initialize the right edge of field\n",
    "                right_edge = candidate + 1\n",
    "                \n",
    "                #fix if this is past the maze edge\n",
    "                while right_edge > len(sm):\n",
    "                    right_edge -= 1\n",
    "\n",
    "                while (sm[right_edge]/sm[candidate] > thresh_pct) & (right_edge < len(sm) - 1):\n",
    "\n",
    "                    right_edge+=1\n",
    "                    \n",
    "                while (sm[right_edge]/sm[candidate] < thresh_pct) & (right_edge < len(sm) - 1):\n",
    "\n",
    "                    right_edge += 1\n",
    "                    \n",
    "                #fix if you went past the maze edge\n",
    "                while right_edge > len(sm):\n",
    "                    right_edge -= 1\n",
    "                    \n",
    "                    \n",
    "                if (sm[left_edge]/sm[candidate] > thresh_pct) & (sm[right_edge]/sm[candidate] < thresh_pct):\n",
    "                    \n",
    "                    #drop the field--need to add this condition\n",
    "                    peaks[ind] = []\n",
    "                    left_edge = []\n",
    "                    right_edge = []\n",
    "                \n",
    "                left_edges.append(left_edge)\n",
    "                right_edges.append(right_edge)\n",
    "            \n",
    "       \n",
    "        "
   ]
  },
  {
   "cell_type": "code",
   "execution_count": 186,
   "id": "f5d3331e",
   "metadata": {},
   "outputs": [
    {
     "data": {
      "text/plain": [
       "3"
      ]
     },
     "execution_count": 186,
     "metadata": {},
     "output_type": "execute_result"
    }
   ],
   "source": [
    "right_edge = candidate + 1\n",
    "right_edge"
   ]
  },
  {
   "cell_type": "code",
   "execution_count": 187,
   "id": "2ac275b5",
   "metadata": {},
   "outputs": [
    {
     "data": {
      "text/plain": [
       "3"
      ]
     },
     "execution_count": 187,
     "metadata": {},
     "output_type": "execute_result"
    }
   ],
   "source": [
    "while right_edge > len(sm):\n",
    "    right_edge -= 1\n",
    "    \n",
    "right_edge"
   ]
  },
  {
   "cell_type": "code",
   "execution_count": 251,
   "id": "a7ab10bb",
   "metadata": {
    "scrolled": false
   },
   "outputs": [
    {
     "data": {
      "text/plain": [
       "0.20241174616524718"
      ]
     },
     "execution_count": 251,
     "metadata": {},
     "output_type": "execute_result"
    }
   ],
   "source": [
    "sm[right_edge]/sm[candidate]\n"
   ]
  },
  {
   "cell_type": "code",
   "execution_count": 252,
   "id": "79458275",
   "metadata": {},
   "outputs": [
    {
     "data": {
      "text/plain": [
       "25"
      ]
     },
     "execution_count": 252,
     "metadata": {},
     "output_type": "execute_result"
    }
   ],
   "source": [
    "right_edge"
   ]
  },
  {
   "cell_type": "code",
   "execution_count": 253,
   "id": "670b2ef0",
   "metadata": {},
   "outputs": [],
   "source": [
    "right_edge+=1"
   ]
  },
  {
   "cell_type": "code",
   "execution_count": 184,
   "id": "6b9c96bc",
   "metadata": {},
   "outputs": [
    {
     "data": {
      "text/plain": [
       "49"
      ]
     },
     "execution_count": 184,
     "metadata": {},
     "output_type": "execute_result"
    }
   ],
   "source": [
    "while (sm[right_edge]/sm[candidate] > thresh_pct) & (right_edge < len(sm) - 1):\n",
    "\n",
    "    right_edge+=1\n",
    "    \n",
    "right_edge"
   ]
  },
  {
   "cell_type": "code",
   "execution_count": null,
   "id": "638bbc2f",
   "metadata": {},
   "outputs": [],
   "source": [
    "#need to add constraint -- if never goes down to "
   ]
  },
  {
   "cell_type": "code",
   "execution_count": 185,
   "id": "4a0d2510",
   "metadata": {},
   "outputs": [
    {
     "data": {
      "text/plain": [
       "True"
      ]
     },
     "execution_count": 185,
     "metadata": {},
     "output_type": "execute_result"
    }
   ],
   "source": [
    "sm[right_edge]/sm[candidate] > thresh_pct"
   ]
  },
  {
   "cell_type": "code",
   "execution_count": null,
   "id": "38f87d9e",
   "metadata": {},
   "outputs": [],
   "source": []
  },
  {
   "cell_type": "code",
   "execution_count": 177,
   "id": "4f7c5ee4",
   "metadata": {},
   "outputs": [
    {
     "data": {
      "text/plain": [
       "([0], [2], [49])"
      ]
     },
     "execution_count": 177,
     "metadata": {},
     "output_type": "execute_result"
    }
   ],
   "source": [
    "left_edges, peaks, right_edges\n"
   ]
  },
  {
   "cell_type": "code",
   "execution_count": 178,
   "id": "377cb49a",
   "metadata": {},
   "outputs": [
    {
     "data": {
      "text/plain": [
       "0.5936278435481162"
      ]
     },
     "execution_count": 178,
     "metadata": {},
     "output_type": "execute_result"
    }
   ],
   "source": [
    "sm[right_edge]/sm[candidate]"
   ]
  },
  {
   "cell_type": "code",
   "execution_count": null,
   "id": "f77987ca",
   "metadata": {},
   "outputs": [],
   "source": []
  },
  {
   "cell_type": "code",
   "execution_count": 149,
   "id": "bb4ae780",
   "metadata": {},
   "outputs": [
    {
     "data": {
      "text/plain": [
       "<matplotlib.collections.LineCollection at 0x7fdea619e910>"
      ]
     },
     "execution_count": 149,
     "metadata": {},
     "output_type": "execute_result"
    },
    {
     "data": {
      "image/png": "[encoded data removed]",
      "text/plain": [
       "<Figure size 1080x288 with 1 Axes>"
      ]
     },
     "metadata": {},
     "output_type": "display_data"
    }
   ],
   "source": [
    "fig, ax = plt.subplots(figsize=(15,4))\n",
    "\n",
    "ax.plot(sm,linewidth=4,alpha=0.5,color='blue')\n",
    "ax.plot(s,linewidth=4,alpha=0.2,color='k')\n",
    "ax.scatter(peaks, sm[peaks],color='k')\n",
    "ax.vlines(x = peaks, ymin = 0, ymax = max(sm), color = 'k', linewidth = 3, linestyle = \"--\")\n",
    "ax.vlines(x = [left_edges, right_edges], ymin = 0, ymax = max(sm), color = 'lightgrey', linewidth = 3, linestyle = \"--\")\n",
    "       "
   ]
  },
  {
   "cell_type": "markdown",
   "id": "3448ab18",
   "metadata": {},
   "source": [
    "Function below synthesizes the detection code I prototyped above."
   ]
  },
  {
   "cell_type": "code",
   "execution_count": 137,
   "id": "696a6103",
   "metadata": {},
   "outputs": [],
   "source": [
    "from math import nan\n",
    "from scipy.ndimage import gaussian_filter1d\n",
    "from scipy.signal import find_peaks\n",
    "\n",
    "def get_field_bin_edges(sm,thresh_peak,stdevs,thresh_pct): \n",
    "    \"\"\"sm: list/array, smoothed firing rate curve\n",
    "    thresh_peak: scalar, mean firing rate threhsold for considering cells, cells considered will\n",
    "                        have mean frate less than or equal to this value\n",
    "    stdevs: scalar, number of standard deviations above the mean frate to consider legit field\n",
    "    thresh_peak: scalar, minimum height of the firing rate peak to be considered a field\n",
    "    thresh_pct: scalar, proportion of edge-of-field to peak-of-field to be considered an entrance or exit of field\n",
    "    \"\"\"\n",
    "    \n",
    "    if np.mean(sm) <= thresh_mean_frate:\n",
    "    \n",
    "        \n",
    "        #find the max peak\n",
    "        peaks, _ = find_peaks(sm, height = thresh_peak)\n",
    "        vanillapeaks = np.where(sm == max(sm))\n",
    "        locpeaks = np.hstack((vanillapeaks[0], peaks))\n",
    "        peaks = np.array(sorted(list(set(locpeaks))))\n",
    "\n",
    "        peaks = [i for i in peaks if sm[i] >= np.mean(sm) + np.std(sm)]\n",
    "\n",
    "\n",
    "        if len(peaks) > 0:\n",
    "\n",
    "            for candidate in peaks: \n",
    "\n",
    "                left_edges = []\n",
    "                right_edges = []\n",
    "\n",
    "                if (sm[candidate] > thresh_peak) & (sm[candidate] >= np.mean(sm) + (stdevs * np.std(sm))):\n",
    "\n",
    "                    #initialize the left edge of field\n",
    "                    left_edge = candidate - 1\n",
    "\n",
    "                    while (sm[left_edge]/sm[candidate] > thresh_pct) & (left_edge > 0):\n",
    "\n",
    "                        #move left edge further left\n",
    "                        left_edge -= 1\n",
    "\n",
    "                    while (sm[left_edge]/sm[candidate] < thresh_pct) & (left_edge > 0):\n",
    "\n",
    "                        #adjust it back right if you overshot the threshold\n",
    "                        left_edge+=1\n",
    "\n",
    "                    while left_edge < 0: \n",
    "\n",
    "                        left_edge += 1\n",
    "\n",
    "                    left_edges.append(left_edge)\n",
    "\n",
    "                    #initialize the right edge of field\n",
    "                    right_edge = candidate + 1\n",
    "\n",
    "\n",
    "                    while (sm[right_edge]/sm[candidate] > thresh_pct) & (right_edge < len(sm) - 1):\n",
    "\n",
    "                        right_edge += 1\n",
    "\n",
    "                    while (sm[right_edge]/sm[candidate] < thresh_pct) & (right_edge < len(sm) - 1):\n",
    "\n",
    "                        right_edge-=1\n",
    "\n",
    "                    while right_edge > len(sm):\n",
    "\n",
    "                        right_edge-=1\n",
    "\n",
    "                    right_edges.append(right_edge)\n",
    "\n",
    "\n",
    "\n",
    "\n",
    "        return left_edges, peaks, right_edges"
   ]
  },
  {
   "cell_type": "markdown",
   "id": "75ce7ddd",
   "metadata": {},
   "source": [
    "## Find & store entrance and exit position bins and times\n",
    "\n",
    "These will be subject to some constraints: \n",
    "- velocity, animal should be running into/out of the field, not dallying at a position bin\n",
    "- head direction, especially for fields that lie right at the track edges -- for these fields, I might only be able to consider the field entrance"
   ]
  },
  {
   "cell_type": "code",
   "execution_count": 17,
   "id": "3919afb5",
   "metadata": {},
   "outputs": [],
   "source": [
    "def circular_hist(ax, x, bins=16, density=True, offset=0, gaps=True):\n",
    "    \"\"\"\n",
    "    Produce a circular histogram of angles on ax.\n",
    "\n",
    "    Parameters\n",
    "    ----------\n",
    "    ax : matplotlib.axes._subplots.PolarAxesSubplot\n",
    "        axis instance created with subplot_kw=dict(projection='polar').\n",
    "\n",
    "    x : array\n",
    "        Angles to plot, expected in units of radians.\n",
    "\n",
    "    bins : int, optional\n",
    "        Defines the number of equal-width bins in the range. The default is 16.\n",
    "\n",
    "    density : bool, optional\n",
    "        If True plot frequency proportional to area. If False plot frequency\n",
    "        proportional to radius. The default is True.\n",
    "\n",
    "    offset : float, optional\n",
    "        Sets the offset for the location of the 0 direction in units of\n",
    "        radians. The default is 0.\n",
    "\n",
    "    gaps : bool, optional\n",
    "        Whether to allow gaps between bins. When gaps = False the bins are\n",
    "        forced to partition the entire [-pi, pi] range. The default is True.\n",
    "\n",
    "    Returns\n",
    "    -------\n",
    "    n : array or list of arrays\n",
    "        The number of values in each bin.\n",
    "\n",
    "    bins : array\n",
    "        The edges of the bins.\n",
    "\n",
    "    patches : `.BarContainer` or list of a single `.Polygon`\n",
    "        Container of individual artists used to create the histogram\n",
    "        or list of such containers if there are multiple input datasets.\n",
    "    \"\"\"\n",
    "    # Wrap angles to [-pi, pi)\n",
    "    x = (x+np.pi) % (2*np.pi) - np.pi\n",
    "\n",
    "    # Force bins to partition entire circle\n",
    "    if not gaps:\n",
    "        bins = np.linspace(-np.pi, np.pi, num=bins+1)\n",
    "\n",
    "    # Bin data and record counts\n",
    "    n, bins = np.histogram(x, bins=bins)\n",
    "\n",
    "    # Compute width of each bin\n",
    "    widths = np.diff(bins)\n",
    "\n",
    "    # By default plot frequency proportional to area\n",
    "    if density:\n",
    "        # Area to assign each bin\n",
    "        area = n / x.size\n",
    "        # Calculate corresponding bin radius\n",
    "        radius = (area/np.pi) ** .5\n",
    "    # Otherwise plot frequency proportional to radius\n",
    "    else:\n",
    "        radius = n\n",
    "\n",
    "    # Plot data on ax\n",
    "    patches = ax.bar(bins[:-1], radius, zorder=1, align='edge', width=widths,\n",
    "                     edgecolor='C0', fill=False, linewidth=1)\n",
    "\n",
    "    # Set the direction of the zero angle\n",
    "    ax.set_theta_offset(offset)\n",
    "\n",
    "    # Remove ylabels for area plots (they are mostly obstructive)\n",
    "    if density:\n",
    "        ax.set_yticks([])\n",
    "\n",
    "    return n, bins, patches"
   ]
  },
  {
   "cell_type": "code",
   "execution_count": 65,
   "id": "d2d5439f",
   "metadata": {},
   "outputs": [],
   "source": [
    "datapath = 'python_data_lintrack/'\n",
    "\n",
    "posdf = pd.read_csv(os.path.join(datapath,'posdf_day1_epoch2.csv'))\n",
    "spikesdf = pd.read_csv(os.path.join(datapath,'spikesdf_day1_epoch2.csv'))\n",
    "\n",
    "spikesdf['posindex_0ind'] = spikesdf[['posindex']] - 1 #account for python 0-indexing, which matlab doesn't do\n",
    "posdf = posdf.dropna()\n",
    "\n",
    "cell_labels = list(set(spikesdf['cell_id'].to_list()))\n",
    "\n",
    "pos_binning = 50\n",
    "pos_bineds = np.linspace(posdf['y'].min(),posdf['y'].max(),pos_binning)\n",
    "labels = np.linspace(0,pos_binning-1,pos_binning-1)\n",
    "labels = [int(i) for i in labels]\n",
    "posdf['y_binned'] = pd.cut(posdf['y'],\n",
    "                           labels=labels,\n",
    "                           bins=pos_bineds,\n",
    "                           include_lowest=True\n",
    "                          )\n",
    "\n",
    "thresh_mean_frate = 3 #Hz\n",
    "thresh_peak = 2 #Hz\n",
    "thresh_pct = 0.15 #proportion edge to peak frate\n",
    "\n",
    "edges = []\n",
    "for cell in cell_labels:\n",
    "    \n",
    "    \n",
    "    subcell = spikesdf[spikesdf['cell_id']==cell]\n",
    "    cell_type = list(set(subcell['cell_type'].to_list()))\n",
    "    \n",
    "    locinds = list(set(posdf.index) & set(subcell['posindex_0ind']))\n",
    "    locinds = sorted(locinds)\n",
    "    locinds = locinds[:-1]\n",
    "\n",
    "    x_spikes = posdf['x'].iloc[locinds]\n",
    "    y_spikes = posdf['y'].iloc[locinds]\n",
    "    \n",
    "    sp_per_bin = plt.hist(y_spikes,bins=pos_binning,alpha=0.4,color='blue')\n",
    "\n",
    "    occupancy_per_bin = plt.hist(posdf['y'],bins=pos_binning,alpha=0.6,color='lightgrey')\n",
    "\n",
    "    norm_spikes_per_bin = sp_per_bin[0] / (occupancy_per_bin[0] * np.median(np.diff(posdf['time'].values))) \n",
    "\n",
    "\n",
    "    s=norm_spikes_per_bin\n",
    "    sm = gaussian_filter1d(s, 2) \n",
    "    \n",
    "    left_edge, maxpeak, right_edge = get_field_bin_edges(sm,thresh_mean_frate,thresh_peak,thresh_pct)\n",
    "    \n",
    "    d = {'cell_id': cell, \n",
    "         'cell_type': cell_type, \n",
    "         'left_edge_posbin': left_edge, \n",
    "         'peak_posbin': maxpeak, \n",
    "         'right_edge_posbin': right_edge, \n",
    "         \n",
    "        }\n",
    "    \n",
    "    edges.append(pd.DataFrame(d))\n",
    "    \n",
    "    plt.close()\n",
    "    \n",
    "edges_df = pd.concat(edges)\n"
   ]
  },
  {
   "cell_type": "code",
   "execution_count": 66,
   "id": "fb49a914",
   "metadata": {},
   "outputs": [],
   "source": [
    "edges_df = edges_df.dropna()"
   ]
  },
  {
   "cell_type": "code",
   "execution_count": 67,
   "id": "c0b94ba1",
   "metadata": {},
   "outputs": [
    {
     "data": {
      "text/html": [
       "<div>\n",
       "<style scoped>\n",
       "    .dataframe tbody tr th:only-of-type {\n",
       "        vertical-align: middle;\n",
       "    }\n",
       "\n",
       "    .dataframe tbody tr th {\n",
       "        vertical-align: top;\n",
       "    }\n",
       "\n",
       "    .dataframe thead th {\n",
       "        text-align: right;\n",
       "    }\n",
       "</style>\n",
       "<table border=\"1\" class=\"dataframe\">\n",
       "  <thead>\n",
       "    <tr style=\"text-align: right;\">\n",
       "      <th></th>\n",
       "      <th>index</th>\n",
       "      <th>cell_id</th>\n",
       "      <th>cell_type</th>\n",
       "      <th>left_edge_posbin</th>\n",
       "      <th>peak_posbin</th>\n",
       "      <th>right_edge_posbin</th>\n",
       "    </tr>\n",
       "  </thead>\n",
       "  <tbody>\n",
       "    <tr>\n",
       "      <th>0</th>\n",
       "      <td>0</td>\n",
       "      <td>HPa_CA1_day1_epoch2_tet4_unitnum2</td>\n",
       "      <td>CA1Pyr</td>\n",
       "      <td>0.0</td>\n",
       "      <td>0.0</td>\n",
       "      <td>10.0</td>\n",
       "    </tr>\n",
       "    <tr>\n",
       "      <th>1</th>\n",
       "      <td>0</td>\n",
       "      <td>HPa_iCA1_day1_epoch2_tet11_unitnum2</td>\n",
       "      <td>iCA1Pyrp</td>\n",
       "      <td>0.0</td>\n",
       "      <td>2.0</td>\n",
       "      <td>33.0</td>\n",
       "    </tr>\n",
       "    <tr>\n",
       "      <th>2</th>\n",
       "      <td>0</td>\n",
       "      <td>HPa_iCA1_day1_epoch2_tet11_unitnum1</td>\n",
       "      <td>iCA1Pyrp</td>\n",
       "      <td>11.0</td>\n",
       "      <td>39.0</td>\n",
       "      <td>49.0</td>\n",
       "    </tr>\n",
       "    <tr>\n",
       "      <th>3</th>\n",
       "      <td>0</td>\n",
       "      <td>HPa_iCA1_day1_epoch2_tet14_unitnum1</td>\n",
       "      <td>iCA1Pyrpr</td>\n",
       "      <td>0.0</td>\n",
       "      <td>4.0</td>\n",
       "      <td>14.0</td>\n",
       "    </tr>\n",
       "    <tr>\n",
       "      <th>4</th>\n",
       "      <td>0</td>\n",
       "      <td>HPa_iCA1_day1_epoch2_tet9_unitnum1</td>\n",
       "      <td>iCA1Pyr</td>\n",
       "      <td>0.0</td>\n",
       "      <td>7.0</td>\n",
       "      <td>21.0</td>\n",
       "    </tr>\n",
       "    <tr>\n",
       "      <th>5</th>\n",
       "      <td>0</td>\n",
       "      <td>HPa_CA1_day1_epoch2_tet4_unitnum1</td>\n",
       "      <td>CA1Pyr</td>\n",
       "      <td>17.0</td>\n",
       "      <td>24.0</td>\n",
       "      <td>32.0</td>\n",
       "    </tr>\n",
       "    <tr>\n",
       "      <th>6</th>\n",
       "      <td>0</td>\n",
       "      <td>HPa_CA1_day1_epoch2_tet4_unitnum3</td>\n",
       "      <td>CA1Pyr</td>\n",
       "      <td>0.0</td>\n",
       "      <td>5.0</td>\n",
       "      <td>13.0</td>\n",
       "    </tr>\n",
       "  </tbody>\n",
       "</table>\n",
       "</div>"
      ],
      "text/plain": [
       "   index                              cell_id  cell_type  left_edge_posbin  \\\n",
       "0      0    HPa_CA1_day1_epoch2_tet4_unitnum2     CA1Pyr               0.0   \n",
       "1      0  HPa_iCA1_day1_epoch2_tet11_unitnum2   iCA1Pyrp               0.0   \n",
       "2      0  HPa_iCA1_day1_epoch2_tet11_unitnum1   iCA1Pyrp              11.0   \n",
       "3      0  HPa_iCA1_day1_epoch2_tet14_unitnum1  iCA1Pyrpr               0.0   \n",
       "4      0   HPa_iCA1_day1_epoch2_tet9_unitnum1    iCA1Pyr               0.0   \n",
       "5      0    HPa_CA1_day1_epoch2_tet4_unitnum1     CA1Pyr              17.0   \n",
       "6      0    HPa_CA1_day1_epoch2_tet4_unitnum3     CA1Pyr               0.0   \n",
       "\n",
       "   peak_posbin  right_edge_posbin  \n",
       "0          0.0               10.0  \n",
       "1          2.0               33.0  \n",
       "2         39.0               49.0  \n",
       "3          4.0               14.0  \n",
       "4          7.0               21.0  \n",
       "5         24.0               32.0  \n",
       "6          5.0               13.0  "
      ]
     },
     "execution_count": 67,
     "metadata": {},
     "output_type": "execute_result"
    }
   ],
   "source": [
    "edges_df.reset_index()"
   ]
  },
  {
   "cell_type": "markdown",
   "id": "ea48387f",
   "metadata": {},
   "source": [
    "Now, we need to find all the time stamps per cell that correspond to crossing these entrances and exits. \n",
    "\n",
    "It might be important that the rat is actively _crossing_ and not just _occupying_ these position bins though, so I'll also need velocity at these times to meet the criteria for crossing."
   ]
  },
  {
   "cell_type": "code",
   "execution_count": 68,
   "id": "e2166265",
   "metadata": {},
   "outputs": [
    {
     "data": {
      "text/plain": [
       "'HPa_CA1_day1_epoch2_tet4_unitnum3'"
      ]
     },
     "execution_count": 68,
     "metadata": {},
     "output_type": "execute_result"
    }
   ],
   "source": [
    "cell"
   ]
  },
  {
   "cell_type": "code",
   "execution_count": 69,
   "id": "8e4a6ae9",
   "metadata": {},
   "outputs": [],
   "source": [
    "subvel = posdf[posdf['velocity'] > 2]\n",
    "edges = ['left_edge', 'right_edge']\n",
    "hdir = ['down','up']\n",
    "\n",
    "cell_labels = list(set(edges_df['cell_id'].to_list()))\n",
    "\n",
    "times = []\n",
    "for cell in cell_labels:\n",
    "    \n",
    "    subedge = edges_df[edges_df['cell_id'] == cell]\n",
    "    \n",
    "    celltype = subedge['cell_type'].values\n",
    "\n",
    "    for edge in edges: \n",
    "        edgeval = subedge[edge + '_posbin'].values[0]\n",
    "\n",
    "        for hd in hdir: \n",
    "            \n",
    "            if hd == 'down':\n",
    "                \n",
    "                subedgehdir = subvel[(subvel['y_binned']==edgeval) & (subvel['hdir'] < 0)]\n",
    "                \n",
    "            if hd == 'up':\n",
    "                \n",
    "                subedgehdir = subvel[(subvel['y_binned']==edgeval) & (subvel['hdir'] > 0)]\n",
    "\n",
    "            ts = subedgehdir['time'].to_list()\n",
    "            \n",
    "            if len(ts) > 0:\n",
    "\n",
    "                d = {'cell_id': np.repeat(cell,len(ts)),\n",
    "                     'cell_type': np.repeat(celltype,len(ts)), \n",
    "                     'time': ts,\n",
    "                     'edgecross': np.repeat(edge,len(ts)), \n",
    "                     'crossdir': np.repeat(hd,len(ts)),\n",
    "                    }\n",
    "\n",
    "                times.append(pd.DataFrame(d))\n",
    "\n",
    "times_df = pd.concat(times)"
   ]
  },
  {
   "cell_type": "code",
   "execution_count": 70,
   "id": "c0c34516",
   "metadata": {},
   "outputs": [],
   "source": [
    "subcell = times_df[times_df['cell_id'] == 'HPa_CA1_day1_epoch2_tet4_unitnum2']"
   ]
  },
  {
   "cell_type": "code",
   "execution_count": 71,
   "id": "d3ac35d7",
   "metadata": {},
   "outputs": [],
   "source": [
    "subcell = subcell.sort_values(by = ['time'])"
   ]
  },
  {
   "cell_type": "code",
   "execution_count": 72,
   "id": "b814c960",
   "metadata": {},
   "outputs": [
    {
     "data": {
      "text/html": [
       "<div>\n",
       "<style scoped>\n",
       "    .dataframe tbody tr th:only-of-type {\n",
       "        vertical-align: middle;\n",
       "    }\n",
       "\n",
       "    .dataframe tbody tr th {\n",
       "        vertical-align: top;\n",
       "    }\n",
       "\n",
       "    .dataframe thead th {\n",
       "        text-align: right;\n",
       "    }\n",
       "</style>\n",
       "<table border=\"1\" class=\"dataframe\">\n",
       "  <thead>\n",
       "    <tr style=\"text-align: right;\">\n",
       "      <th></th>\n",
       "      <th>cell_id</th>\n",
       "      <th>cell_type</th>\n",
       "      <th>time</th>\n",
       "      <th>edgecross</th>\n",
       "      <th>crossdir</th>\n",
       "    </tr>\n",
       "  </thead>\n",
       "  <tbody>\n",
       "    <tr>\n",
       "      <th>0</th>\n",
       "      <td>HPa_CA1_day1_epoch2_tet4_unitnum2</td>\n",
       "      <td>CA1Pyr</td>\n",
       "      <td>3891.0307</td>\n",
       "      <td>right_edge</td>\n",
       "      <td>up</td>\n",
       "    </tr>\n",
       "    <tr>\n",
       "      <th>1</th>\n",
       "      <td>HPa_CA1_day1_epoch2_tet4_unitnum2</td>\n",
       "      <td>CA1Pyr</td>\n",
       "      <td>3891.0641</td>\n",
       "      <td>right_edge</td>\n",
       "      <td>up</td>\n",
       "    </tr>\n",
       "    <tr>\n",
       "      <th>0</th>\n",
       "      <td>HPa_CA1_day1_epoch2_tet4_unitnum2</td>\n",
       "      <td>CA1Pyr</td>\n",
       "      <td>3918.2194</td>\n",
       "      <td>right_edge</td>\n",
       "      <td>down</td>\n",
       "    </tr>\n",
       "    <tr>\n",
       "      <th>1</th>\n",
       "      <td>HPa_CA1_day1_epoch2_tet4_unitnum2</td>\n",
       "      <td>CA1Pyr</td>\n",
       "      <td>3918.2527</td>\n",
       "      <td>right_edge</td>\n",
       "      <td>down</td>\n",
       "    </tr>\n",
       "    <tr>\n",
       "      <th>2</th>\n",
       "      <td>HPa_CA1_day1_epoch2_tet4_unitnum2</td>\n",
       "      <td>CA1Pyr</td>\n",
       "      <td>3918.2860</td>\n",
       "      <td>right_edge</td>\n",
       "      <td>down</td>\n",
       "    </tr>\n",
       "    <tr>\n",
       "      <th>...</th>\n",
       "      <td>...</td>\n",
       "      <td>...</td>\n",
       "      <td>...</td>\n",
       "      <td>...</td>\n",
       "      <td>...</td>\n",
       "    </tr>\n",
       "    <tr>\n",
       "      <th>142</th>\n",
       "      <td>HPa_CA1_day1_epoch2_tet4_unitnum2</td>\n",
       "      <td>CA1Pyr</td>\n",
       "      <td>4952.4513</td>\n",
       "      <td>right_edge</td>\n",
       "      <td>up</td>\n",
       "    </tr>\n",
       "    <tr>\n",
       "      <th>143</th>\n",
       "      <td>HPa_CA1_day1_epoch2_tet4_unitnum2</td>\n",
       "      <td>CA1Pyr</td>\n",
       "      <td>4952.4847</td>\n",
       "      <td>right_edge</td>\n",
       "      <td>up</td>\n",
       "    </tr>\n",
       "    <tr>\n",
       "      <th>144</th>\n",
       "      <td>HPa_CA1_day1_epoch2_tet4_unitnum2</td>\n",
       "      <td>CA1Pyr</td>\n",
       "      <td>4952.5180</td>\n",
       "      <td>right_edge</td>\n",
       "      <td>up</td>\n",
       "    </tr>\n",
       "    <tr>\n",
       "      <th>145</th>\n",
       "      <td>HPa_CA1_day1_epoch2_tet4_unitnum2</td>\n",
       "      <td>CA1Pyr</td>\n",
       "      <td>4952.5514</td>\n",
       "      <td>right_edge</td>\n",
       "      <td>up</td>\n",
       "    </tr>\n",
       "    <tr>\n",
       "      <th>146</th>\n",
       "      <td>HPa_CA1_day1_epoch2_tet4_unitnum2</td>\n",
       "      <td>CA1Pyr</td>\n",
       "      <td>4952.5847</td>\n",
       "      <td>right_edge</td>\n",
       "      <td>up</td>\n",
       "    </tr>\n",
       "  </tbody>\n",
       "</table>\n",
       "<p>565 rows × 5 columns</p>\n",
       "</div>"
      ],
      "text/plain": [
       "                               cell_id cell_type       time   edgecross  \\\n",
       "0    HPa_CA1_day1_epoch2_tet4_unitnum2    CA1Pyr  3891.0307  right_edge   \n",
       "1    HPa_CA1_day1_epoch2_tet4_unitnum2    CA1Pyr  3891.0641  right_edge   \n",
       "0    HPa_CA1_day1_epoch2_tet4_unitnum2    CA1Pyr  3918.2194  right_edge   \n",
       "1    HPa_CA1_day1_epoch2_tet4_unitnum2    CA1Pyr  3918.2527  right_edge   \n",
       "2    HPa_CA1_day1_epoch2_tet4_unitnum2    CA1Pyr  3918.2860  right_edge   \n",
       "..                                 ...       ...        ...         ...   \n",
       "142  HPa_CA1_day1_epoch2_tet4_unitnum2    CA1Pyr  4952.4513  right_edge   \n",
       "143  HPa_CA1_day1_epoch2_tet4_unitnum2    CA1Pyr  4952.4847  right_edge   \n",
       "144  HPa_CA1_day1_epoch2_tet4_unitnum2    CA1Pyr  4952.5180  right_edge   \n",
       "145  HPa_CA1_day1_epoch2_tet4_unitnum2    CA1Pyr  4952.5514  right_edge   \n",
       "146  HPa_CA1_day1_epoch2_tet4_unitnum2    CA1Pyr  4952.5847  right_edge   \n",
       "\n",
       "    crossdir  \n",
       "0         up  \n",
       "1         up  \n",
       "0       down  \n",
       "1       down  \n",
       "2       down  \n",
       "..       ...  \n",
       "142       up  \n",
       "143       up  \n",
       "144       up  \n",
       "145       up  \n",
       "146       up  \n",
       "\n",
       "[565 rows x 5 columns]"
      ]
     },
     "execution_count": 72,
     "metadata": {},
     "output_type": "execute_result"
    }
   ],
   "source": [
    "subcell"
   ]
  },
  {
   "cell_type": "code",
   "execution_count": 74,
   "id": "ce5565f4",
   "metadata": {},
   "outputs": [
    {
     "data": {
      "text/html": [
       "<div>\n",
       "<style scoped>\n",
       "    .dataframe tbody tr th:only-of-type {\n",
       "        vertical-align: middle;\n",
       "    }\n",
       "\n",
       "    .dataframe tbody tr th {\n",
       "        vertical-align: top;\n",
       "    }\n",
       "\n",
       "    .dataframe thead th {\n",
       "        text-align: right;\n",
       "    }\n",
       "</style>\n",
       "<table border=\"1\" class=\"dataframe\">\n",
       "  <thead>\n",
       "    <tr style=\"text-align: right;\">\n",
       "      <th></th>\n",
       "      <th>cell_id</th>\n",
       "      <th>cell_type</th>\n",
       "      <th>time</th>\n",
       "      <th>edgecross</th>\n",
       "      <th>crossdir</th>\n",
       "    </tr>\n",
       "  </thead>\n",
       "  <tbody>\n",
       "    <tr>\n",
       "      <th>0</th>\n",
       "      <td>HPa_CA1_day1_epoch2_tet4_unitnum2</td>\n",
       "      <td>CA1Pyr</td>\n",
       "      <td>3891.0307</td>\n",
       "      <td>right_edge</td>\n",
       "      <td>up</td>\n",
       "    </tr>\n",
       "    <tr>\n",
       "      <th>1</th>\n",
       "      <td>HPa_CA1_day1_epoch2_tet4_unitnum2</td>\n",
       "      <td>CA1Pyr</td>\n",
       "      <td>3891.0641</td>\n",
       "      <td>right_edge</td>\n",
       "      <td>up</td>\n",
       "    </tr>\n",
       "    <tr>\n",
       "      <th>2</th>\n",
       "      <td>HPa_CA1_day1_epoch2_tet4_unitnum2</td>\n",
       "      <td>CA1Pyr</td>\n",
       "      <td>3930.4960</td>\n",
       "      <td>right_edge</td>\n",
       "      <td>up</td>\n",
       "    </tr>\n",
       "    <tr>\n",
       "      <th>3</th>\n",
       "      <td>HPa_CA1_day1_epoch2_tet4_unitnum2</td>\n",
       "      <td>CA1Pyr</td>\n",
       "      <td>3930.5294</td>\n",
       "      <td>right_edge</td>\n",
       "      <td>up</td>\n",
       "    </tr>\n",
       "    <tr>\n",
       "      <th>4</th>\n",
       "      <td>HPa_CA1_day1_epoch2_tet4_unitnum2</td>\n",
       "      <td>CA1Pyr</td>\n",
       "      <td>3930.5627</td>\n",
       "      <td>right_edge</td>\n",
       "      <td>up</td>\n",
       "    </tr>\n",
       "    <tr>\n",
       "      <th>...</th>\n",
       "      <td>...</td>\n",
       "      <td>...</td>\n",
       "      <td>...</td>\n",
       "      <td>...</td>\n",
       "      <td>...</td>\n",
       "    </tr>\n",
       "    <tr>\n",
       "      <th>142</th>\n",
       "      <td>HPa_CA1_day1_epoch2_tet4_unitnum2</td>\n",
       "      <td>CA1Pyr</td>\n",
       "      <td>4952.4513</td>\n",
       "      <td>right_edge</td>\n",
       "      <td>up</td>\n",
       "    </tr>\n",
       "    <tr>\n",
       "      <th>143</th>\n",
       "      <td>HPa_CA1_day1_epoch2_tet4_unitnum2</td>\n",
       "      <td>CA1Pyr</td>\n",
       "      <td>4952.4847</td>\n",
       "      <td>right_edge</td>\n",
       "      <td>up</td>\n",
       "    </tr>\n",
       "    <tr>\n",
       "      <th>144</th>\n",
       "      <td>HPa_CA1_day1_epoch2_tet4_unitnum2</td>\n",
       "      <td>CA1Pyr</td>\n",
       "      <td>4952.5180</td>\n",
       "      <td>right_edge</td>\n",
       "      <td>up</td>\n",
       "    </tr>\n",
       "    <tr>\n",
       "      <th>145</th>\n",
       "      <td>HPa_CA1_day1_epoch2_tet4_unitnum2</td>\n",
       "      <td>CA1Pyr</td>\n",
       "      <td>4952.5514</td>\n",
       "      <td>right_edge</td>\n",
       "      <td>up</td>\n",
       "    </tr>\n",
       "    <tr>\n",
       "      <th>146</th>\n",
       "      <td>HPa_CA1_day1_epoch2_tet4_unitnum2</td>\n",
       "      <td>CA1Pyr</td>\n",
       "      <td>4952.5847</td>\n",
       "      <td>right_edge</td>\n",
       "      <td>up</td>\n",
       "    </tr>\n",
       "  </tbody>\n",
       "</table>\n",
       "<p>150 rows × 5 columns</p>\n",
       "</div>"
      ],
      "text/plain": [
       "                               cell_id cell_type       time   edgecross  \\\n",
       "0    HPa_CA1_day1_epoch2_tet4_unitnum2    CA1Pyr  3891.0307  right_edge   \n",
       "1    HPa_CA1_day1_epoch2_tet4_unitnum2    CA1Pyr  3891.0641  right_edge   \n",
       "2    HPa_CA1_day1_epoch2_tet4_unitnum2    CA1Pyr  3930.4960  right_edge   \n",
       "3    HPa_CA1_day1_epoch2_tet4_unitnum2    CA1Pyr  3930.5294  right_edge   \n",
       "4    HPa_CA1_day1_epoch2_tet4_unitnum2    CA1Pyr  3930.5627  right_edge   \n",
       "..                                 ...       ...        ...         ...   \n",
       "142  HPa_CA1_day1_epoch2_tet4_unitnum2    CA1Pyr  4952.4513  right_edge   \n",
       "143  HPa_CA1_day1_epoch2_tet4_unitnum2    CA1Pyr  4952.4847  right_edge   \n",
       "144  HPa_CA1_day1_epoch2_tet4_unitnum2    CA1Pyr  4952.5180  right_edge   \n",
       "145  HPa_CA1_day1_epoch2_tet4_unitnum2    CA1Pyr  4952.5514  right_edge   \n",
       "146  HPa_CA1_day1_epoch2_tet4_unitnum2    CA1Pyr  4952.5847  right_edge   \n",
       "\n",
       "    crossdir  \n",
       "0         up  \n",
       "1         up  \n",
       "2         up  \n",
       "3         up  \n",
       "4         up  \n",
       "..       ...  \n",
       "142       up  \n",
       "143       up  \n",
       "144       up  \n",
       "145       up  \n",
       "146       up  \n",
       "\n",
       "[150 rows x 5 columns]"
      ]
     },
     "execution_count": 74,
     "metadata": {},
     "output_type": "execute_result"
    }
   ],
   "source": [
    "subcell[subcell['crossdir'] == 'up']"
   ]
  },
  {
   "cell_type": "code",
   "execution_count": null,
   "id": "abeded66",
   "metadata": {},
   "outputs": [],
   "source": [
    "# keep only timestamps between which there are large gaps (greater than pos dt)"
   ]
  },
  {
   "cell_type": "code",
   "execution_count": null,
   "id": "d6655e27",
   "metadata": {},
   "outputs": [],
   "source": []
  },
  {
   "cell_type": "code",
   "execution_count": 370,
   "id": "3f3269bc",
   "metadata": {},
   "outputs": [],
   "source": [
    "# fig, ax = plt.subplots(subplot_kw=dict(projection='polar'))\n",
    "\n",
    "# # ax.plot(posdf['x'].values,posdf['y'].values)\n",
    "\n",
    "# circular_hist(ax=ax,x=subrightcross['hdir'].values)"
   ]
  },
  {
   "cell_type": "code",
   "execution_count": 369,
   "id": "bd5162a9",
   "metadata": {},
   "outputs": [
    {
     "data": {
      "text/plain": [
       "<matplotlib.collections.PathCollection at 0x7f8b8453d4c0>"
      ]
     },
     "execution_count": 369,
     "metadata": {},
     "output_type": "execute_result"
    },
    {
     "data": {
      "image/png": "[encoded data removed]",
      "text/plain": [
       "<Figure size 432x288 with 1 Axes>"
      ]
     },
     "metadata": {},
     "output_type": "display_data"
    }
   ],
   "source": [
    "plt.plot(posdf['x'].values,posdf['y'].values,alpha=0.5,color='lightgrey')\n",
    "plt.scatter(subrightcross_down['x'].values,subrightcross_down['y'].values,color='k',alpha=0.6)\n",
    "plt.scatter(subrightcross_up['x'].values,subrightcross_up['y'].values,color='teal',alpha=0.6)\n",
    "\n",
    "plt.scatter(subleftcross_up['x'].values,subleftcross_up['y'].values,color='red',alpha=0.6)\n",
    "plt.scatter(subleftcross_down['x'].values,subleftcross_down['y'].values,color='blue',alpha=0.6)"
   ]
  },
  {
   "cell_type": "code",
   "execution_count": null,
   "id": "43038eff",
   "metadata": {},
   "outputs": [],
   "source": []
  }
 ],
 "metadata": {
  "kernelspec": {
   "display_name": "Python 3 (ipykernel)",
   "language": "python",
   "name": "python3"
  },
  "language_info": {
   "codemirror_mode": {
    "name": "ipython",
    "version": 3
   },
   "file_extension": ".py",
   "mimetype": "text/x-python",
   "name": "python",
   "nbconvert_exporter": "python",
   "pygments_lexer": "ipython3",
   "version": "3.9.7"
  }
 },
 "nbformat": 4,
 "nbformat_minor": 5
}
